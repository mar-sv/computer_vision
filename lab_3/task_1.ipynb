{
 "cells": [
  {
   "cell_type": "code",
   "execution_count": 29,
   "metadata": {},
   "outputs": [],
   "source": [
    "import numpy as np\n",
    "\n",
    "def otsu_thresh(h):\n",
    "    \"\"\"\n",
    "    Function to compute Otsu's threshold and goodness measure.\n",
    "    Inputs:\n",
    "        h - image histogram (1D numpy array)\n",
    "    Outputs:\n",
    "        T - threshold between 0 and 1\n",
    "        GM - goodness measure\n",
    "    \"\"\"\n",
    "    # Normalize the histogram to get probabilities\n",
    "    p = h / np.sum(h)\n",
    "    \n",
    "    # Number of bins\n",
    "    L = len(h)\n",
    "    \n",
    "    # Bin indices\n",
    "    bins = np.arange(L)\n",
    "    \n",
    "    # Compute total mean\n",
    "    mu_T = np.sum(bins * p)\n",
    "    \n",
    "    # Compute total variance\n",
    "    sigma_T2 = np.sum(((bins - mu_T) ** 2) * p)\n",
    "    \n",
    "    # Compute cumulative sums of class probabilities\n",
    "    omega_0 = np.cumsum(p)\n",
    "    omega_1 = np.cumsum(p[::-1])[::-1]\n",
    "    \n",
    "    # Compute cumulative means\n",
    "    mu_0 = np.cumsum(bins * p) / omega_0\n",
    "    mu_1 = (np.cumsum((bins * p)[::-1]) / omega_1[::-1])[::-1]\n",
    "    \n",
    "    # Handle divisions by zero for omega_0 and omega_1\n",
    "    omega_0[omega_0 == 0] = np.nan\n",
    "    omega_1[omega_1 == 0] = np.nan\n",
    "    mu_0[omega_0 == np.nan] = 0\n",
    "    mu_1[omega_1 == np.nan] = 0\n",
    "    \n",
    "    # Compute between-class variance\n",
    "    sigma_b2 = omega_0 * omega_1 * (mu_0 - mu_1) ** 2\n",
    "    \n",
    "    # Find the threshold that maximizes the between-class variance\n",
    "    idx = np.nanargmax(sigma_b2)\n",
    "    maxval = sigma_b2[idx]\n",
    "    \n",
    "    # Compute the goodness measure\n",
    "    GM = maxval / sigma_T2\n",
    "    \n",
    "    return idx, GM\n"
   ]
  },
  {
   "cell_type": "code",
   "execution_count": 30,
   "metadata": {},
   "outputs": [
    {
     "name": "stdout",
     "output_type": "stream",
     "text": [
      "Self built: For image left: Threshold= 81, GM=0.86\n",
      "Builtin OPENCV: For image left: Threshold= 81\n",
      "Self built: For image redball: Threshold= 90, GM=0.76\n",
      "Builtin OPENCV: For image redball: Threshold= 89\n"
     ]
    }
   ],
   "source": [
    "### GEt the data (cameraman does not exist?, take redball instead)\n",
    "##Using openCV (png)\n",
    "import cv2\n",
    "import matplotlib.pyplot as plt\n",
    "from skimage.filters import threshold_otsu\n",
    "\n",
    "\n",
    "img_names = ['left.jpg','redball.jpeg']\n",
    "\n",
    "for img_name in img_names:\n",
    "    image = cv2.imread(f\"data\\{img_name}\")\n",
    "    image_gray = cv2.cvtColor(image, cv2.COLOR_BGR2GRAY)\n",
    "\n",
    "    #Self built\n",
    "    h, bin_edges = np.histogram(image_gray.flatten(), bins=256, range=(0, 255))\n",
    "    t,gm = otsu_thresh(h)\n",
    "    print(f\"Self built: For image {img_name.split('.')[0]}: Threshold= {np.round(t,2)}, GM={np.round(gm,2)}\")\n",
    "\n",
    "    #Builtin\n",
    "    threshold_value= threshold_otsu(image_gray)\n",
    "    print(f\"Builtin OPENCV: For image {img_name.split('.')[0]}: Threshold= {np.round(threshold_value,2)}\")\n"
   ]
  },
  {
   "cell_type": "code",
   "execution_count": 6,
   "metadata": {},
   "outputs": [
    {
     "data": {
      "text/plain": [
       "array([114288,   1209,    990,    702,    447,    396,    240,    180,\n",
       "          144,    135,     87,    111,     75,     69,     51,     66,\n",
       "           15,     39,     24,     39,     39,     27,     27,     33,\n",
       "           15,      6,     33,     30,     18,     30,     18,     24,\n",
       "           24,     33,     30,     45,     27,     54,     45,     69,\n",
       "           57,    102,     87,    126,    150,    165,    201,    414,\n",
       "          519,    576,   4821,    504,    507,    303,    273,    186,\n",
       "          159,    114,     93,     66,     63,     30,     33,     24,\n",
       "           24,     39,     24,     36,     24,     21,     24,     15,\n",
       "            9,     21,     30,     18,      6,     36,     12,     15,\n",
       "           12,     12,     27,     18,     27,     12,     36,     24,\n",
       "           27,     36,     45,     45,     78,    105,    132,    186,\n",
       "          252,    423,    501,    723,  13794,    735,    516,    387,\n",
       "          297,    228,     90,     99,     45,     48,     57,     30,\n",
       "           18,     36,     30,     27,     18,     24,     21,     21,\n",
       "           30,     12,     24,     21,     15,     12,     27,     18,\n",
       "           18,     30,     27,      9,     12,     30,     18,     18,\n",
       "           15,     12,     12,     36,     57,     21,     42,     63,\n",
       "           60,     84,    174,    282,    420,    522,   8430,    756,\n",
       "          426,    273,    186,    114,     57,     63,     21,     42,\n",
       "           30,     27,     33,     33,     18,     18,     33,     21,\n",
       "           21,     15,     27,     36,      9,     12,     27,     27,\n",
       "           21,     18,     30,     21,     30,     30,     18,     33,\n",
       "           36,     30,     45,     45,     45,     48,     57,     72,\n",
       "           63,     99,     99,    147,    219,    297,    417,    603,\n",
       "        16809,    603,    477,    321,    288,    183,    144,    117,\n",
       "           75,     39,     27,     30,     33,     24,     18,      9,\n",
       "           18,      9,     12,      3,     12,      9,     12,      6,\n",
       "            6,      0,     12,      6,      6,      3,      3,      9,\n",
       "           12,      3,     18,     12,      9,     30,     12,     18,\n",
       "           27,     12,     57,     66,     66,     54,    105,    120,\n",
       "          159,    210,   1584,    237,    222,    180,    114,    348],\n",
       "      dtype=int64)"
      ]
     },
     "execution_count": 6,
     "metadata": {},
     "output_type": "execute_result"
    }
   ],
   "source": []
  },
  {
   "cell_type": "code",
   "execution_count": null,
   "metadata": {},
   "outputs": [],
   "source": []
  }
 ],
 "metadata": {
  "kernelspec": {
   "display_name": "base",
   "language": "python",
   "name": "python3"
  },
  "language_info": {
   "codemirror_mode": {
    "name": "ipython",
    "version": 3
   },
   "file_extension": ".py",
   "mimetype": "text/x-python",
   "name": "python",
   "nbconvert_exporter": "python",
   "pygments_lexer": "ipython3",
   "version": "3.10.12"
  }
 },
 "nbformat": 4,
 "nbformat_minor": 2
}
